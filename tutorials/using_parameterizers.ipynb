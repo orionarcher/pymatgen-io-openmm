{
 "cells": [
  {
   "cell_type": "code",
   "execution_count": 23,
   "metadata": {
    "pycharm": {
     "is_executing": true
    }
   },
   "outputs": [
    {
     "name": "stdout",
     "output_type": "stream",
     "text": [
      "The autoreload extension is already loaded. To reload it, use:\n",
      "  %reload_ext autoreload\n"
     ]
    }
   ],
   "source": [
    "from pymatgen.io.openmm.generators import OpenMMSolutionGen\n",
    "import numpy as np\n",
    "\n",
    "%load_ext autoreload\n",
    "%autoreload 2"
   ]
  },
  {
   "attachments": {},
   "cell_type": "markdown",
   "metadata": {},
   "source": [
    "### Generators\n",
    "\n",
    "A pymatgen InputSet contains all of the files needed to set up and run a simulation. Writing those files by hand would be incredibly tedious, so we use a Generator to create the InputSet. The Generator is instantiated with simulation properties as input, like temperature and force field. Once it is created, it can generate many InputSets with different sets of molecules."
   ]
  },
  {
   "cell_type": "code",
   "execution_count": 31,
   "metadata": {},
   "outputs": [],
   "source": [
    "generator = OpenMMSolutionGen(\n",
    "    default_force_field=\"sage\",\n",
    "    temperature= 298,\n",
    "    step_size= 0.001,\n",
    "    default_charge_method= \"mmff94\",\n",
    ")"
   ]
  },
  {
   "attachments": {},
   "cell_type": "markdown",
   "metadata": {},
   "source": [
    "### Setting parameterizer arguments when getting an input set\n",
    "\n",
    "An InputSet is created by calling `generator.get_input_set()` and providing dicts defining each molecule and the density of the solution. In addition to the required parameters there several optional parameters. This included parameters which allow you to define how the system is parameterized, what force fields should be used, any custom force field files to leverage and more. Below are more detailed descriptions of each of the parameters and examples of using them"
   ]
  },
  {
   "attachments": {},
   "cell_type": "markdown",
   "metadata": {},
   "source": [
    "#### parameterizer_type\n",
    "The `parameterizer_type` argument specifies the type of tooling use for parameterization. It can be set to one of the ParameterizerType options (`INTERCHANGE`, `OPENMM`, `DEFAULT`). Note that the `DEFAULT` ParameterizerType which is the parameterizer used by Default, simply maps to the `OPENMM` parameterizer configuration. Another thing to note is that in order for this value to be used you must also set the `parameterizer_assignment` parameter to be `EXPLICIT` otherwise the type will be assigned based on the force fields you specify. \n",
    "\n",
    "#### parameterizer_assignment\n",
    "The `parameterizer_assignment` argument specifies how the parameterizer should be assigned for building the system. It can be set to one of the ParameterizerAssignment options (`INFERRED` or `EXPLICIT`). \n",
    "\n",
    "\n",
    "Here's an example of how use these parameters when generating an input set: "
   ]
  },
  {
   "cell_type": "code",
   "execution_count": 32,
   "metadata": {},
   "outputs": [
    {
     "name": "stdout",
     "output_type": "stream",
     "text": [
      "in tempfile\n"
     ]
    }
   ],
   "source": [
    "from pymatgen.io.openmm.parameterizer import (\n",
    "    ParameterizerType,\n",
    "    ParameterizerAssignment\n",
    ")\n",
    "\n",
    "# building mol dict for an ionic system which uses the amoeba force field\n",
    "input_mol_dicts = [\n",
    "    {\n",
    "      \"smile\": \"O\",\n",
    "      \"force_field\": \"amoeba\",\n",
    "      \"count\": 200\n",
    "    },\n",
    "    {\n",
    "      \"smile\":\"[Cl-]\",\n",
    "      \"force_field\": \"amoeba\",\n",
    "      \"count\": 50,\n",
    "      \"default_charge_method\": \"mmff94\"\n",
    "    }\n",
    "]\n",
    "\n",
    "\n",
    "input_set = generator.get_input_set(\n",
    "    input_mol_dicts,\n",
    "    parameterizer_type=ParameterizerType.OPENMM_PARAMETERIZER,\n",
    "    parameterizer_assignment=ParameterizerAssignment.EXPLICIT,\n",
    "    density=1\n",
    ")"
   ]
  },
  {
   "attachments": {},
   "cell_type": "markdown",
   "metadata": {},
   "source": [
    "We could also generate the same input set leveraging the defaults since the default parameterizer for \"amoeba\" is `OPENMM_PARAMETERIZER` and the parameterizer is implicitly assigned by default"
   ]
  },
  {
   "cell_type": "code",
   "execution_count": 33,
   "metadata": {},
   "outputs": [
    {
     "name": "stdout",
     "output_type": "stream",
     "text": [
      "in tempfile\n"
     ]
    }
   ],
   "source": [
    "# building mol dict for an ionic system which uses the amoeba force field\n",
    "input_mol_dicts = [\n",
    "    {\n",
    "      \"smile\": \"O\",\n",
    "      \"force_field\": \"amoeba\",\n",
    "      \"count\": 200\n",
    "    },\n",
    "    {\n",
    "      \"smile\":\"[Cl-]\",\n",
    "      \"force_field\": \"amoeba\",\n",
    "      \"count\": 50,\n",
    "      \"default_charge_method\": \"mmff94\"\n",
    "    }\n",
    "]\n",
    "\n",
    "\n",
    "input_set = generator.get_input_set(\n",
    "    input_mol_dicts,\n",
    "    density=1\n",
    ")"
   ]
  },
  {
   "attachments": {},
   "cell_type": "markdown",
   "metadata": {},
   "source": [
    "Note: Not all combinations of force_field, parameterizer_type, and parameterizer_assignment will be valid. The good news is there should be some clear error messages about what is and is not supported. For example if you try to create a molocule with a forcfield only supported by the `OPENMM_PARAMETERIZER` but you set the `parameterizer_type` to `INTERCHANGE_PARAMETERIZER` and `parameterizer_assignement` to `EXPLICIT` you will get a message indicating that the parameterizer you are using does not support the force field type. This is demonstrated below:"
   ]
  },
  {
   "cell_type": "code",
   "execution_count": null,
   "metadata": {},
   "outputs": [],
   "source": [
    "from pymatgen.io.openmm.parameterizer import (\n",
    "    ParameterizerType,\n",
    "    ParameterizerAssignment\n",
    ")\n",
    "\n",
    "# building mol dict for an ionic system which uses the amoeba force field\n",
    "input_mol_dicts = [\n",
    "    {\n",
    "      \"smile\": \"O\",\n",
    "      \"force_field\": \"sage\",\n",
    "      \"count\": 200\n",
    "    },\n",
    "    {\n",
    "      \"smile\":\"[Cl-]\",\n",
    "      \"force_field\": \"sage\",\n",
    "      \"count\": 50,\n",
    "      \"default_charge_method\": \"mmff94\"\n",
    "    }\n",
    "]\n",
    "\n",
    "\n",
    "input_set = generator.get_input_set(\n",
    "    input_mol_dicts,\n",
    "    parameterizer_type=ParameterizerType.OPENMM_PARAMETERIZER,\n",
    "    parameterizer_assignment=ParameterizerAssignment.EXPLICIT,\n",
    "    density=1\n",
    ")"
   ]
  },
  {
   "attachments": {},
   "cell_type": "markdown",
   "metadata": {},
   "source": [
    "### customize_force_field and custom_file_paths\n",
    "The `customize_force_field` argument specifies whether or not to use custom force field files for parameterization, while the `custom_file_paths argument` specifies a list of file paths to custom force field files. These are set to `false` and `None` respectively by default Here's an example of how to use these arguments:\n",
    "\n",
    "```python\n",
    "\n",
    "input_set = generator.get_input_set(\n",
    "    input_mol_dicts,\n",
    "    parameterizer_type=ParameterizerType.OPENMM_PARAMETERIZER,\n",
    "    parameterizer_assignment=ParameterizerAssignment.EXPLICIT,\n",
    "    customize_force_field: true,\n",
    "    custom_file_paths: [\"path/to/custom/forcefield.xml\"],\n",
    "    density=1\n",
    ")\n",
    "\n",
    "```"
   ]
  }
 ],
 "metadata": {
  "kernelspec": {
   "display_name": "test",
   "language": "python",
   "name": "python3"
  },
  "language_info": {
   "codemirror_mode": {
    "name": "ipython",
    "version": 3
   },
   "file_extension": ".py",
   "mimetype": "text/x-python",
   "name": "python",
   "nbconvert_exporter": "python",
   "pygments_lexer": "ipython3",
   "version": "3.10.9"
  }
 },
 "nbformat": 4,
 "nbformat_minor": 1
}
